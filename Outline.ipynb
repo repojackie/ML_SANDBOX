{
  "nbformat": 4,
  "nbformat_minor": 0,
  "metadata": {
    "colab": {
      "name": "Outline.ipynb",
      "provenance": [],
      "authorship_tag": "ABX9TyNPAa0uFc6u9ztu8vipvGi4",
      "include_colab_link": true
    },
    "kernelspec": {
      "name": "python3",
      "display_name": "Python 3"
    },
    "language_info": {
      "name": "python"
    }
  },
  "cells": [
    {
      "cell_type": "markdown",
      "metadata": {
        "id": "view-in-github",
        "colab_type": "text"
      },
      "source": [
        "<a href=\"https://colab.research.google.com/github/repojackie/ML_SANDBOX/blob/main/Outline.ipynb\" target=\"_parent\"><img src=\"https://colab.research.google.com/assets/colab-badge.svg\" alt=\"Open In Colab\"/></a>"
      ]
    },
    {
      "cell_type": "markdown",
      "metadata": {
        "id": "Sv2XTRz_ozku"
      },
      "source": [
        "# Project Outline"
      ]
    },
    {
      "cell_type": "markdown",
      "metadata": {
        "id": "vRMxKZCzqG4Q"
      },
      "source": [
        "[1] Take notes and learn as much information as possible \n",
        "[2] Do a simple introductory project"
      ]
    },
    {
      "cell_type": "markdown",
      "metadata": {
        "id": "rSXFWtaco5X7"
      },
      "source": [
        "# Resources"
      ]
    },
    {
      "cell_type": "markdown",
      "metadata": {
        "id": "e9vcJeaspXnc"
      },
      "source": [
        "[1] https://tanthiamhuat.files.wordpress.com/2018/04/mastering-machine-learning-with-python-in-six-steps.pdf \n",
        "  { main reading materials }\n",
        "\n",
        "---\n",
        "[2] https://elitedatascience.com/machine-learning-projects-for-beginners  \n",
        "  { basic introductory project ideas }\n",
        "\n"
      ]
    },
    {
      "cell_type": "markdown",
      "metadata": {
        "id": "l0D3H9Gyru_-"
      },
      "source": [
        "# Notes\n"
      ]
    },
    {
      "cell_type": "markdown",
      "metadata": {
        "id": "-njDGNMurzAk"
      },
      "source": [
        "### March 25, 2021\n",
        "[ start on page 53 ] \n",
        "\n",
        "\n",
        "*   \"observe, plan, optimize, action, learn and adapt\" - AI process loop\n",
        "*   Robotic intelligent agent - component that can perceive its environment through sensors\n",
        "*   Turing test: natural language processing, knowledge representation, automated reasoning, machine learning, computer vision, robotics devices, planning/scheduling/optimization\n",
        "*   data mining is the process of discovering patterns in large data sets\n",
        "*   Bayesian vs. Frequentist statistics\n",
        "*   Regression includes techniques for modeling between a dependentfactor and one or many independent factors also called predictors/variables/features\n",
        "\n",
        "[ finished top of page 61 ]\n",
        "\n",
        "\n",
        "\n",
        "\n",
        "\n"
      ]
    }
  ]
}