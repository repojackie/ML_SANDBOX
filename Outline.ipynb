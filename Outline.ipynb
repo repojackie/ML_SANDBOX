{
  "nbformat": 4,
  "nbformat_minor": 0,
  "metadata": {
    "colab": {
      "name": "Outline.ipynb",
      "provenance": [],
      "authorship_tag": "ABX9TyN7xpF/qY9it8p98/WzkFT6",
      "include_colab_link": true
    },
    "kernelspec": {
      "name": "python3",
      "display_name": "Python 3"
    },
    "language_info": {
      "name": "python"
    }
  },
  "cells": [
    {
      "cell_type": "markdown",
      "metadata": {
        "id": "view-in-github",
        "colab_type": "text"
      },
      "source": [
        "<a href=\"https://colab.research.google.com/github/repojackie/ML_SANDBOX/blob/main/Outline.ipynb\" target=\"_parent\"><img src=\"https://colab.research.google.com/assets/colab-badge.svg\" alt=\"Open In Colab\"/></a>"
      ]
    },
    {
      "cell_type": "markdown",
      "metadata": {
        "id": "Sv2XTRz_ozku"
      },
      "source": [
        "# Project Outline"
      ]
    },
    {
      "cell_type": "markdown",
      "metadata": {
        "id": "vRMxKZCzqG4Q"
      },
      "source": [
        ""
      ]
    },
    {
      "cell_type": "markdown",
      "metadata": {
        "id": "rSXFWtaco5X7"
      },
      "source": [
        "# Resources"
      ]
    },
    {
      "cell_type": "markdown",
      "metadata": {
        "id": "e9vcJeaspXnc"
      },
      "source": [
        "https://tanthiamhuat.files.wordpress.com/2018/04/mastering-machine-learning-with-python-in-six-steps.pdf\n",
        "\n",
        "\n"
      ]
    }
  ]
}