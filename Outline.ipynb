{
  "nbformat": 4,
  "nbformat_minor": 0,
  "metadata": {
    "colab": {
      "name": "Outline.ipynb",
      "provenance": [],
      "include_colab_link": true
    },
    "kernelspec": {
      "name": "python3",
      "display_name": "Python 3"
    },
    "language_info": {
      "name": "python"
    }
  },
  "cells": [
    {
      "cell_type": "markdown",
      "metadata": {
        "id": "view-in-github",
        "colab_type": "text"
      },
      "source": [
        "<a href=\"https://colab.research.google.com/github/repojackie/ML_SANDBOX/blob/main/Outline.ipynb\" target=\"_parent\"><img src=\"https://colab.research.google.com/assets/colab-badge.svg\" alt=\"Open In Colab\"/></a>"
      ]
    },
    {
      "cell_type": "markdown",
      "metadata": {
        "id": "Sv2XTRz_ozku"
      },
      "source": [
        "# Project Outline"
      ]
    },
    {
      "cell_type": "markdown",
      "metadata": {
        "id": "vRMxKZCzqG4Q"
      },
      "source": [
        "[1] Take notes and learn as much information as possible \n",
        "[2] Do a simple introductory project"
      ]
    },
    {
      "cell_type": "markdown",
      "metadata": {
        "id": "rSXFWtaco5X7"
      },
      "source": [
        "# Resources"
      ]
    },
    {
      "cell_type": "markdown",
      "metadata": {
        "id": "e9vcJeaspXnc"
      },
      "source": [
        "[1] https://tanthiamhuat.files.wordpress.com/2018/04/mastering-machine-learning-with-python-in-six-steps.pdf \n",
        "  { main reading materials }\n",
        "\n",
        "---\n",
        "[2] https://elitedatascience.com/machine-learning-projects-for-beginners  \n",
        "  { basic introductory project ideas }\n",
        "\n"
      ]
    },
    {
      "cell_type": "markdown",
      "metadata": {
        "id": "l0D3H9Gyru_-"
      },
      "source": [
        "# Notes\n"
      ]
    },
    {
      "cell_type": "markdown",
      "metadata": {
        "id": "m53Mz5o7h2Zq"
      },
      "source": [
        "### March 28, 2021\n",
        "[ start on page 69 ]\n",
        "  * Knowledge Discovery Databases (KDD) \n",
        "    * Selection - correct data samples are retrieved from the database \n",
        "    * Preprocessing - remove outliers/noise, duplicates, address missing data\n",
        "    * Transformation - smoothing, aggregation, generalization, normalization, PCA/MDS, compression, etc.\n",
        "    * Data Mining - apply machine learning to extract data patterns\n",
        "    * Interpretation/Evaluation - summarizing and providing visual aides\n",
        "  * Cross-Industry Standard Process for Data Mining (CRISP-DM) \n",
        "    * Business Understanding - understand the objects and make a problem definition\n",
        "    * Data Understanding - determine relevance of data to be used\n",
        "    * Data Preparation - cleaning the data\n",
        "    * Modeling - apply machine learning and tune parameters\n",
        "    * Evaluation - which model has the highest accuracy?\n",
        "    * Deployment - usability of the model output\n",
        "  * Sample, Explore, Modify, Model, Assess (SEMMA) \n",
        "    * Sample - selected subset of data should be an actual representation of the entire dataset originally collected (data is also divided for training and validation)\n",
        "    * Explore - univariate/multivariate analysis\n",
        "    * Modify - clean the dataset\n",
        "    * Model - apply mining techniques\n",
        "    * Assess - model is evaluated against test data\n",
        "  * Python Data Analysis Packages - NumPy, SciPy, Matplotlib, Pandas\n",
        "  * Pandas datastructures\n",
        "    * Series\n",
        "    * DataFrame \n",
        "[ end page 117 ]"
      ]
    },
    {
      "cell_type": "markdown",
      "metadata": {
        "id": "1TqCez9rUD5S"
      },
      "source": [
        "#### March 26, 2021\n",
        "[ start on page 61 ]\n",
        "* Supervised Learning - goal is to build a general set of rules to map input to class/event\n",
        "  * Regression - output to be predicted is continous in relation to a given input\n",
        "  * Classification - output is probability of the input belonging to a particular class\n",
        "* Machine learning stages: 1) training 2) testing/validation 3) prediction\n",
        "* Unsupervised Learning - the desired output class/event is unknown from historical data -- objective is to study the patterns in the input dataset \n",
        "  * Clustering - divide input dataset into logical groups of related items\n",
        "  * Dimension Reduction - simplify a large input dataset by mapping them to a lower dimensional space\n",
        "  * Anomaly detection - outlier detection\n",
        "  * Reinforcement Learning - map situations to actions that yield the maximum final reward (Markov decision process, Q-learning, Temporal Difference methods, Monte-Carlo methods)\n",
        "* Data Mining Process Frameworks\n",
        "  * Knowledge Discovery Databases (KDD) \n",
        "    ( will continue with this later )\n",
        "\n",
        "[ finished page 69 ]\n"
      ]
    },
    {
      "cell_type": "markdown",
      "metadata": {
        "id": "-njDGNMurzAk"
      },
      "source": [
        "### March 25, 2021\n",
        "[ start on page 53 ] \n",
        "\n",
        "\n",
        "*   \"observe, plan, optimize, action, learn and adapt\" - AI process loop\n",
        "*   Robotic intelligent agent - component that can perceive its environment through sensors\n",
        "*   Turing test: natural language processing, knowledge representation, automated reasoning, machine learning, computer vision, robotics devices, planning/scheduling/optimization\n",
        "*   data mining is the process of discovering patterns in large data sets\n",
        "*   Bayesian vs. Frequentist statistics\n",
        "*   Regression includes techniques for modeling between a dependentfactor and one or many independent factors also called predictors/variables/features\n",
        "\n",
        "[ finished top of page 61 ]\n",
        "\n",
        "\n",
        "\n",
        "\n",
        "\n"
      ]
    }
  ]
}